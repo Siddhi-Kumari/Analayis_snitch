{
 "cells": [
  {
   "cell_type": "markdown",
   "id": "59ff3448-88a5-4b6d-a5d3-741f5d1d452c",
   "metadata": {},
   "source": [
    "# 📊 Key Insights from SKU-Level Analysis"
   ]
  },
  {
   "cell_type": "code",
   "execution_count": 81,
   "id": "87ee88c9-dc39-4e20-a2b7-43cf83969eda",
   "metadata": {},
   "outputs": [
    {
     "name": "stdout",
     "output_type": "stream",
     "text": [
      "<class 'pandas.core.frame.DataFrame'>\n",
      "RangeIndex: 15132 entries, 0 to 15131\n",
      "Data columns (total 23 columns):\n",
      " #   Column         Non-Null Count  Dtype \n",
      "---  ------         --------------  ----- \n",
      " 0   SKU_GROUP      15132 non-null  object\n",
      " 1   CATEGORY       15129 non-null  object\n",
      " 2   OCCASSION_NEW  15132 non-null  object\n",
      " 3   PRINT_DESIGN   13840 non-null  object\n",
      " 4   COLLAR_NEW     15132 non-null  object\n",
      " 5   MATERIAL_NEW   15132 non-null  object\n",
      " 6   SLEEVE_TYPE    10852 non-null  object\n",
      " 7   FIT            13836 non-null  object\n",
      " 8   COLOR          15132 non-null  object\n",
      " 9   CLOSURE        4458 non-null   object\n",
      " 10  STYLE          2811 non-null   object\n",
      " 11  MONTH1         15132 non-null  int64 \n",
      " 12  MONTH2         15132 non-null  int64 \n",
      " 13  MONTH3         15132 non-null  int64 \n",
      " 14  MONTH4         15132 non-null  int64 \n",
      " 15  MONTH5         15132 non-null  int64 \n",
      " 16  MONTH6         15132 non-null  int64 \n",
      " 17  MONTH7         15132 non-null  int64 \n",
      " 18  MONTH8         15132 non-null  int64 \n",
      " 19  MONTH9         15132 non-null  int64 \n",
      " 20  MONTH10        15132 non-null  int64 \n",
      " 21  MONTH11        15132 non-null  int64 \n",
      " 22  MONTH12        15132 non-null  int64 \n",
      "dtypes: int64(12), object(11)\n",
      "memory usage: 2.7+ MB\n"
     ]
    }
   ],
   "source": [
    "import pandas as pd\n",
    "\n",
    "df = pd.read_csv(\"Design Analysis - Snitch - Business Analyst Growth.xlsx - Data req.csv\")  \n",
    "df.head()\n",
    "df.info()\n"
   ]
  },
  {
   "cell_type": "markdown",
   "id": "cc959141-3c65-42af-99cd-1b35289bfa6e",
   "metadata": {},
   "source": [
    "### 1. Feature Influence by Category 🔆 "
   ]
  },
  {
   "cell_type": "code",
   "execution_count": 83,
   "id": "4c2986e6-d12f-4491-966e-06e8595e27ad",
   "metadata": {},
   "outputs": [
    {
     "name": "stdout",
     "output_type": "stream",
     "text": [
      "               CATEGORY  Total_Sales\n",
      "0              T-Shirts          348\n",
      "1  Joggers & Trackpants            0\n",
      "2                 Jeans            0\n",
      "3                Shirts           41\n",
      "4                Shirts            7\n"
     ]
    }
   ],
   "source": [
    "month_cols = [f\"MONTH{i}\" for i in range(1, 13)]\n",
    "df[\"Total_Sales\"] = df[month_cols].sum(axis=1)\n",
    "print(df[[\"CATEGORY\", \"Total_Sales\"]].head())"
   ]
  },
  {
   "cell_type": "markdown",
   "id": "aa343f11-aac7-49d6-91cf-f84549beae7c",
   "metadata": {},
   "source": [
    "\n",
    "\n",
    "🔍 Customers focus on different features depending on the category:  \n",
    "- For **Shirts**, *COLOR* 🎨 and *MATERIAL* 🧵 are most important.  \n",
    "- For **T-Shirts**, *PRINT DESIGN* 🖼️ leads customer choice.  \n",
    "- For **Jeans**, *CLOSURE* 🔒 is the key deciding factor.  \n",
    "- For categories like *Joggers* and *Cargo Pants*, *COLOR* 🎨 dominates preferences.\n"
   ]
  },
  {
   "cell_type": "markdown",
   "id": "05117ba1-7a67-484b-96bd-608e9b8540f3",
   "metadata": {},
   "source": [
    "### 2. Upcoming Trends 🚀  "
   ]
  },
  {
   "cell_type": "code",
   "execution_count": 44,
   "id": "effd5bb7-5581-4b42-a165-50a64b8ff235",
   "metadata": {},
   "outputs": [
    {
     "data": {
      "text/html": [
       "<div>\n",
       "<style scoped>\n",
       "    .dataframe tbody tr th:only-of-type {\n",
       "        vertical-align: middle;\n",
       "    }\n",
       "\n",
       "    .dataframe tbody tr th {\n",
       "        vertical-align: top;\n",
       "    }\n",
       "\n",
       "    .dataframe thead th {\n",
       "        text-align: right;\n",
       "    }\n",
       "</style>\n",
       "<table border=\"1\" class=\"dataframe\">\n",
       "  <thead>\n",
       "    <tr style=\"text-align: right;\">\n",
       "      <th></th>\n",
       "      <th>Most_Influential_Feature</th>\n",
       "    </tr>\n",
       "  </thead>\n",
       "  <tbody>\n",
       "    <tr>\n",
       "      <th>T-Shirts</th>\n",
       "      <td>PRINT_DESIGN</td>\n",
       "    </tr>\n",
       "    <tr>\n",
       "      <th>Joggers &amp; Trackpants</th>\n",
       "      <td>COLOR</td>\n",
       "    </tr>\n",
       "    <tr>\n",
       "      <th>Jeans</th>\n",
       "      <td>CLOSURE</td>\n",
       "    </tr>\n",
       "    <tr>\n",
       "      <th>Shirts</th>\n",
       "      <td>COLOR</td>\n",
       "    </tr>\n",
       "    <tr>\n",
       "      <th>Cargo Pants</th>\n",
       "      <td>COLOR</td>\n",
       "    </tr>\n",
       "    <tr>\n",
       "      <th>Overshirt</th>\n",
       "      <td>STYLE</td>\n",
       "    </tr>\n",
       "    <tr>\n",
       "      <th>Trousers</th>\n",
       "      <td>STYLE</td>\n",
       "    </tr>\n",
       "    <tr>\n",
       "      <th>Sweaters</th>\n",
       "      <td>PRINT_DESIGN</td>\n",
       "    </tr>\n",
       "    <tr>\n",
       "      <th>Jackets</th>\n",
       "      <td>COLOR</td>\n",
       "    </tr>\n",
       "    <tr>\n",
       "      <th>Pyjamas</th>\n",
       "      <td>COLOR</td>\n",
       "    </tr>\n",
       "    <tr>\n",
       "      <th>Sweatshirts</th>\n",
       "      <td>COLOR</td>\n",
       "    </tr>\n",
       "    <tr>\n",
       "      <th>NaN</th>\n",
       "      <td>OCCASSION_NEW</td>\n",
       "    </tr>\n",
       "  </tbody>\n",
       "</table>\n",
       "</div>"
      ],
      "text/plain": [
       "                     Most_Influential_Feature\n",
       "T-Shirts                         PRINT_DESIGN\n",
       "Joggers & Trackpants                    COLOR\n",
       "Jeans                                 CLOSURE\n",
       "Shirts                                  COLOR\n",
       "Cargo Pants                             COLOR\n",
       "Overshirt                               STYLE\n",
       "Trousers                                STYLE\n",
       "Sweaters                         PRINT_DESIGN\n",
       "Jackets                                 COLOR\n",
       "Pyjamas                                 COLOR\n",
       "Sweatshirts                             COLOR\n",
       "NaN                             OCCASSION_NEW"
      ]
     },
     "execution_count": 44,
     "metadata": {},
     "output_type": "execute_result"
    }
   ],
   "source": [
    "influential_features = {}\n",
    "\n",
    "features = [\"OCCASSION_NEW\", \"PRINT_DESIGN\", \"COLLAR_NEW\", \"MATERIAL_NEW\",\n",
    "            \"SLEEVE_TYPE\", \"FIT\", \"COLOR\", \"CLOSURE\", \"STYLE\"]\n",
    "\n",
    "for cat in df[\"CATEGORY\"].unique():\n",
    "    sub = df[df[\"CATEGORY\"] == cat]\n",
    "    feature_scores = {}\n",
    "    for feature in features:\n",
    "        avg_sales = sub.groupby(feature)[\"Total_Sales\"].mean()\n",
    "        score = avg_sales.max() - avg_sales.min()  # spread as importance proxy\n",
    "        feature_scores[feature] = score\n",
    "    influential_features[cat] = max(feature_scores, key=feature_scores.get)\n",
    "\n",
    "pd.DataFrame.from_dict(influential_features, orient=\"index\", columns=[\"Most_Influential_Feature\"])\n"
   ]
  },
  {
   "cell_type": "code",
   "execution_count": 73,
   "id": "fca42c04-c8d4-476e-83c5-111ea5f474f7",
   "metadata": {},
   "outputs": [
    {
     "data": {
      "image/png": "[encoded data removed]",
      "text/plain": [
       "<Figure size 1400x700 with 1 Axes>"
      ]
     },
     "metadata": {},
     "output_type": "display_data"
    }
   ],
   "source": [
    "import seaborn as sns\n",
    "import matplotlib.pyplot as plt\n",
    "\n",
    "# Sort to get top 10 upcoming trends\n",
    "top_upcoming = upcoming_df.sort_values(\"Trend_Slope\", ascending=False).head(10)\n",
    "\n",
    "plt.figure(figsize=(14, 7))\n",
    "\n",
    "# Create barplot with 'crest' palette and black edges for vibrance\n",
    "barplot = sns.barplot(\n",
    "    data=top_upcoming,\n",
    "    x=\"Trend_Slope\",\n",
    "    y=\"Value\",\n",
    "    hue=\"Category\",\n",
    "    palette=\"crest\",\n",
    "    edgecolor='black',\n",
    "    linewidth=1.2,\n",
    "    dodge=False\n",
    ")\n",
    "\n",
    "# Remove bar labels (do not add any bar_label here)\n",
    "\n",
    "# Styling title and labels with vibrant colors and bigger font size\n",
    "plt.title(\"🔥 Top 10 Upcoming Fashion Trends\", fontsize=22, weight='bold', color=\"#1f497d\")\n",
    "plt.xlabel(\"Trend Slope (↑ indicates rising popularity)\", fontsize=16, weight='bold', color=\"#4f81bd\")\n",
    "plt.ylabel(\"Feature Value\", fontsize=16, weight='bold', color=\"#4f81bd\")\n",
    "\n",
    "# Customize tick labels\n",
    "plt.xticks(fontsize=14)\n",
    "plt.yticks(fontsize=14)\n",
    "\n",
    "# Grid lines only on x-axis with subtle style\n",
    "plt.grid(axis=\"x\", linestyle=\"--\", alpha=0.6, linewidth=0.7)\n",
    "\n",
    "# Adjust legend outside the plot area, with bigger font\n",
    "plt.legend(title=\"Category\", bbox_to_anchor=(1.05, 1), loc='upper left', fontsize=13, title_fontsize=15, frameon=True, edgecolor='gray')\n",
    "\n",
    "plt.tight_layout()\n",
    "plt.show()\n"
   ]
  },
  {
   "cell_type": "markdown",
   "id": "3af685ba-4479-4871-8cdb-771c4680c443",
   "metadata": {},
   "source": [
    "### 3. Vanishing Trends 📉  "
   ]
  },
  {
   "cell_type": "code",
   "execution_count": 21,
   "id": "3d710b4b-dc6d-4b00-98e2-e9d69e96317c",
   "metadata": {},
   "outputs": [],
   "source": [
    "from sklearn.linear_model import LinearRegression\n",
    "import numpy as np\n",
    "\n",
    "month_cols = [f\"MONTH{i}\" for i in range(1, 13)]\n",
    "upcoming_trends = []\n",
    "\n",
    "for feature in [\"FIT\", \"MATERIAL_NEW\", \"STYLE\", \"COLOR\", \"PRINT_DESIGN\"]:\n",
    "    for cat in df[\"CATEGORY\"].dropna().unique():\n",
    "        sub_df = df[df[\"CATEGORY\"] == cat]\n",
    "        for val in sub_df[feature].dropna().unique():\n",
    "            temp = sub_df[sub_df[feature] == val]\n",
    "            if temp.shape[0] < 5:\n",
    "                continue  # Skip low-frequency feature values\n",
    "            monthly_sales = temp[month_cols].sum().values.reshape(-1, 1)\n",
    "            months = np.arange(1, 13).reshape(-1, 1)\n",
    "            \n",
    "            model = LinearRegression().fit(months, monthly_sales)\n",
    "            slope = model.coef_[0][0]\n",
    "            \n",
    "            if slope > 0:  # Increasing trend\n",
    "                upcoming_trends.append((cat, feature, val, round(slope, 2)))\n"
   ]
  },
  {
   "cell_type": "code",
   "execution_count": 22,
   "id": "7e628e6c-befa-4535-8065-3f76a7b3e3d9",
   "metadata": {},
   "outputs": [
    {
     "data": {
      "text/html": [
       "<div>\n",
       "<style scoped>\n",
       "    .dataframe tbody tr th:only-of-type {\n",
       "        vertical-align: middle;\n",
       "    }\n",
       "\n",
       "    .dataframe tbody tr th {\n",
       "        vertical-align: top;\n",
       "    }\n",
       "\n",
       "    .dataframe thead th {\n",
       "        text-align: right;\n",
       "    }\n",
       "</style>\n",
       "<table border=\"1\" class=\"dataframe\">\n",
       "  <thead>\n",
       "    <tr style=\"text-align: right;\">\n",
       "      <th></th>\n",
       "      <th>Category</th>\n",
       "      <th>Feature</th>\n",
       "      <th>Value</th>\n",
       "      <th>Trend_Slope</th>\n",
       "    </tr>\n",
       "  </thead>\n",
       "  <tbody>\n",
       "    <tr>\n",
       "      <th>14</th>\n",
       "      <td>Shirts</td>\n",
       "      <td>FIT</td>\n",
       "      <td>Slim Fit</td>\n",
       "      <td>1291.95</td>\n",
       "    </tr>\n",
       "    <tr>\n",
       "      <th>45</th>\n",
       "      <td>Shirts</td>\n",
       "      <td>MATERIAL_NEW</td>\n",
       "      <td>Cotton</td>\n",
       "      <td>675.28</td>\n",
       "    </tr>\n",
       "    <tr>\n",
       "      <th>42</th>\n",
       "      <td>Jeans</td>\n",
       "      <td>MATERIAL_NEW</td>\n",
       "      <td>Cotton</td>\n",
       "      <td>664.87</td>\n",
       "    </tr>\n",
       "    <tr>\n",
       "      <th>0</th>\n",
       "      <td>T-Shirts</td>\n",
       "      <td>FIT</td>\n",
       "      <td>Slim Fit</td>\n",
       "      <td>655.02</td>\n",
       "    </tr>\n",
       "    <tr>\n",
       "      <th>317</th>\n",
       "      <td>Trousers</td>\n",
       "      <td>PRINT_DESIGN</td>\n",
       "      <td>Plain</td>\n",
       "      <td>631.18</td>\n",
       "    </tr>\n",
       "    <tr>\n",
       "      <th>33</th>\n",
       "      <td>T-Shirts</td>\n",
       "      <td>MATERIAL_NEW</td>\n",
       "      <td>Cotton</td>\n",
       "      <td>594.52</td>\n",
       "    </tr>\n",
       "    <tr>\n",
       "      <th>57</th>\n",
       "      <td>Trousers</td>\n",
       "      <td>MATERIAL_NEW</td>\n",
       "      <td>Polyester</td>\n",
       "      <td>561.56</td>\n",
       "    </tr>\n",
       "    <tr>\n",
       "      <th>285</th>\n",
       "      <td>Shirts</td>\n",
       "      <td>PRINT_DESIGN</td>\n",
       "      <td>Plain</td>\n",
       "      <td>544.15</td>\n",
       "    </tr>\n",
       "    <tr>\n",
       "      <th>23</th>\n",
       "      <td>Trousers</td>\n",
       "      <td>FIT</td>\n",
       "      <td>Slim Fit</td>\n",
       "      <td>531.44</td>\n",
       "    </tr>\n",
       "    <tr>\n",
       "      <th>44</th>\n",
       "      <td>Shirts</td>\n",
       "      <td>MATERIAL_NEW</td>\n",
       "      <td>Polyester</td>\n",
       "      <td>528.58</td>\n",
       "    </tr>\n",
       "    <tr>\n",
       "      <th>46</th>\n",
       "      <td>Shirts</td>\n",
       "      <td>MATERIAL_NEW</td>\n",
       "      <td>Others</td>\n",
       "      <td>422.32</td>\n",
       "    </tr>\n",
       "    <tr>\n",
       "      <th>80</th>\n",
       "      <td>Shirts</td>\n",
       "      <td>STYLE</td>\n",
       "      <td>Linen</td>\n",
       "      <td>402.73</td>\n",
       "    </tr>\n",
       "    <tr>\n",
       "      <th>268</th>\n",
       "      <td>T-Shirts</td>\n",
       "      <td>PRINT_DESIGN</td>\n",
       "      <td>Plain</td>\n",
       "      <td>335.49</td>\n",
       "    </tr>\n",
       "    <tr>\n",
       "      <th>286</th>\n",
       "      <td>Shirts</td>\n",
       "      <td>PRINT_DESIGN</td>\n",
       "      <td>Solid</td>\n",
       "      <td>334.15</td>\n",
       "    </tr>\n",
       "    <tr>\n",
       "      <th>287</th>\n",
       "      <td>Shirts</td>\n",
       "      <td>PRINT_DESIGN</td>\n",
       "      <td>Checks</td>\n",
       "      <td>321.22</td>\n",
       "    </tr>\n",
       "  </tbody>\n",
       "</table>\n",
       "</div>"
      ],
      "text/plain": [
       "     Category       Feature      Value  Trend_Slope\n",
       "14     Shirts           FIT   Slim Fit      1291.95\n",
       "45     Shirts  MATERIAL_NEW     Cotton       675.28\n",
       "42      Jeans  MATERIAL_NEW     Cotton       664.87\n",
       "0    T-Shirts           FIT   Slim Fit       655.02\n",
       "317  Trousers  PRINT_DESIGN      Plain       631.18\n",
       "33   T-Shirts  MATERIAL_NEW     Cotton       594.52\n",
       "57   Trousers  MATERIAL_NEW  Polyester       561.56\n",
       "285    Shirts  PRINT_DESIGN      Plain       544.15\n",
       "23   Trousers           FIT   Slim Fit       531.44\n",
       "44     Shirts  MATERIAL_NEW  Polyester       528.58\n",
       "46     Shirts  MATERIAL_NEW     Others       422.32\n",
       "80     Shirts         STYLE      Linen       402.73\n",
       "268  T-Shirts  PRINT_DESIGN      Plain       335.49\n",
       "286    Shirts  PRINT_DESIGN      Solid       334.15\n",
       "287    Shirts  PRINT_DESIGN     Checks       321.22"
      ]
     },
     "execution_count": 22,
     "metadata": {},
     "output_type": "execute_result"
    }
   ],
   "source": [
    "upcoming_df = pd.DataFrame(upcoming_trends, columns=[\"Category\", \"Feature\", \"Value\", \"Trend_Slope\"])\n",
    "upcoming_df.sort_values(\"Trend_Slope\", ascending=False).head(15)\n"
   ]
  },
  {
   "cell_type": "markdown",
   "id": "5b97baee-aa88-450b-b694-b00d11aeea0d",
   "metadata": {},
   "source": [
    "\n",
    "- *Slim Fit* 👔 in **Shirts** and *Cotton* material 🌿 in **Shirts** & **Jeans** show strong growth.  \n",
    "- *Plain* print designs and *Polyester* material in **Trousers** and **Shirts** are rising fast."
   ]
  },
  {
   "cell_type": "markdown",
   "id": "79e4c1ae-7b19-4e17-9f46-43e67182c5b9",
   "metadata": {},
   "source": [
    "### 4. Feature Composition Breakdown 📦"
   ]
  },
  {
   "cell_type": "code",
   "execution_count": 17,
   "id": "e7eed137-3b87-4c89-9316-c87ad49e501f",
   "metadata": {},
   "outputs": [],
   "source": [
    "vanishing_trends = []\n",
    "\n",
    "for feature in [\"FIT\", \"MATERIAL_NEW\", \"STYLE\", \"COLOR\", \"PRINT_DESIGN\"]:\n",
    "    for cat in df[\"CATEGORY\"].dropna().unique():\n",
    "        sub_df = df[df[\"CATEGORY\"] == cat]\n",
    "        for val in sub_df[feature].dropna().unique():\n",
    "            temp = sub_df[sub_df[feature] == val]\n",
    "            if temp.shape[0] < 5:\n",
    "                continue\n",
    "            monthly_sales = temp[month_cols].sum().values.reshape(-1, 1)\n",
    "            months = np.arange(1, 13).reshape(-1, 1)\n",
    "\n",
    "            model = LinearRegression().fit(months, monthly_sales)\n",
    "            slope = model.coef_[0][0]\n",
    "            \n",
    "            if slope < 0:  # Decreasing trend\n",
    "                vanishing_trends.append((cat, feature, val, round(slope, 2)))\n"
   ]
  },
  {
   "cell_type": "code",
   "execution_count": 18,
   "id": "0b2c4453-15a0-4cde-90d5-1c5b707bb938",
   "metadata": {},
   "outputs": [
    {
     "data": {
      "text/html": [
       "<div>\n",
       "<style scoped>\n",
       "    .dataframe tbody tr th:only-of-type {\n",
       "        vertical-align: middle;\n",
       "    }\n",
       "\n",
       "    .dataframe tbody tr th {\n",
       "        vertical-align: top;\n",
       "    }\n",
       "\n",
       "    .dataframe thead th {\n",
       "        text-align: right;\n",
       "    }\n",
       "</style>\n",
       "<table border=\"1\" class=\"dataframe\">\n",
       "  <thead>\n",
       "    <tr style=\"text-align: right;\">\n",
       "      <th></th>\n",
       "      <th>Category</th>\n",
       "      <th>Feature</th>\n",
       "      <th>Value</th>\n",
       "      <th>Trend_Slope</th>\n",
       "    </tr>\n",
       "  </thead>\n",
       "  <tbody>\n",
       "    <tr>\n",
       "      <th>63</th>\n",
       "      <td>Shirts</td>\n",
       "      <td>PRINT_DESIGN</td>\n",
       "      <td>Textured, Self-Design</td>\n",
       "      <td>-174.17</td>\n",
       "    </tr>\n",
       "    <tr>\n",
       "      <th>11</th>\n",
       "      <td>Shirts</td>\n",
       "      <td>MATERIAL_NEW</td>\n",
       "      <td>Rayon</td>\n",
       "      <td>-124.30</td>\n",
       "    </tr>\n",
       "    <tr>\n",
       "      <th>12</th>\n",
       "      <td>Cargo Pants</td>\n",
       "      <td>MATERIAL_NEW</td>\n",
       "      <td>Cotton</td>\n",
       "      <td>-94.31</td>\n",
       "    </tr>\n",
       "    <tr>\n",
       "      <th>65</th>\n",
       "      <td>Shirts</td>\n",
       "      <td>PRINT_DESIGN</td>\n",
       "      <td>Printed, Geometric</td>\n",
       "      <td>-77.45</td>\n",
       "    </tr>\n",
       "    <tr>\n",
       "      <th>71</th>\n",
       "      <td>Cargo Pants</td>\n",
       "      <td>PRINT_DESIGN</td>\n",
       "      <td>Plain</td>\n",
       "      <td>-76.39</td>\n",
       "    </tr>\n",
       "    <tr>\n",
       "      <th>64</th>\n",
       "      <td>Shirts</td>\n",
       "      <td>PRINT_DESIGN</td>\n",
       "      <td>Printed, Floral</td>\n",
       "      <td>-68.06</td>\n",
       "    </tr>\n",
       "    <tr>\n",
       "      <th>31</th>\n",
       "      <td>Shirts</td>\n",
       "      <td>COLOR</td>\n",
       "      <td>Off White</td>\n",
       "      <td>-38.92</td>\n",
       "    </tr>\n",
       "    <tr>\n",
       "      <th>3</th>\n",
       "      <td>Shirts</td>\n",
       "      <td>FIT</td>\n",
       "      <td>Oversized Fit</td>\n",
       "      <td>-38.20</td>\n",
       "    </tr>\n",
       "    <tr>\n",
       "      <th>20</th>\n",
       "      <td>Shirts</td>\n",
       "      <td>STYLE</td>\n",
       "      <td>Crochet</td>\n",
       "      <td>-35.65</td>\n",
       "    </tr>\n",
       "    <tr>\n",
       "      <th>66</th>\n",
       "      <td>Shirts</td>\n",
       "      <td>PRINT_DESIGN</td>\n",
       "      <td>Embroidered</td>\n",
       "      <td>-33.73</td>\n",
       "    </tr>\n",
       "    <tr>\n",
       "      <th>30</th>\n",
       "      <td>Shirts</td>\n",
       "      <td>COLOR</td>\n",
       "      <td>Multi</td>\n",
       "      <td>-25.29</td>\n",
       "    </tr>\n",
       "    <tr>\n",
       "      <th>15</th>\n",
       "      <td>Trousers</td>\n",
       "      <td>MATERIAL_NEW</td>\n",
       "      <td>Linen</td>\n",
       "      <td>-23.53</td>\n",
       "    </tr>\n",
       "    <tr>\n",
       "      <th>34</th>\n",
       "      <td>Cargo Pants</td>\n",
       "      <td>COLOR</td>\n",
       "      <td>Navy</td>\n",
       "      <td>-23.29</td>\n",
       "    </tr>\n",
       "    <tr>\n",
       "      <th>22</th>\n",
       "      <td>Shirts</td>\n",
       "      <td>STYLE</td>\n",
       "      <td>Velvet</td>\n",
       "      <td>-22.69</td>\n",
       "    </tr>\n",
       "    <tr>\n",
       "      <th>10</th>\n",
       "      <td>T-Shirts</td>\n",
       "      <td>MATERIAL_NEW</td>\n",
       "      <td>Rayon</td>\n",
       "      <td>-20.52</td>\n",
       "    </tr>\n",
       "  </tbody>\n",
       "</table>\n",
       "</div>"
      ],
      "text/plain": [
       "       Category       Feature                  Value  Trend_Slope\n",
       "63       Shirts  PRINT_DESIGN  Textured, Self-Design      -174.17\n",
       "11       Shirts  MATERIAL_NEW                  Rayon      -124.30\n",
       "12  Cargo Pants  MATERIAL_NEW                 Cotton       -94.31\n",
       "65       Shirts  PRINT_DESIGN     Printed, Geometric       -77.45\n",
       "71  Cargo Pants  PRINT_DESIGN                  Plain       -76.39\n",
       "64       Shirts  PRINT_DESIGN        Printed, Floral       -68.06\n",
       "31       Shirts         COLOR              Off White       -38.92\n",
       "3        Shirts           FIT          Oversized Fit       -38.20\n",
       "20       Shirts         STYLE                Crochet       -35.65\n",
       "66       Shirts  PRINT_DESIGN            Embroidered       -33.73\n",
       "30       Shirts         COLOR                  Multi       -25.29\n",
       "15     Trousers  MATERIAL_NEW                  Linen       -23.53\n",
       "34  Cargo Pants         COLOR                   Navy       -23.29\n",
       "22       Shirts         STYLE                 Velvet       -22.69\n",
       "10     T-Shirts  MATERIAL_NEW                  Rayon       -20.52"
      ]
     },
     "execution_count": 18,
     "metadata": {},
     "output_type": "execute_result"
    }
   ],
   "source": [
    "vanishing_df = pd.DataFrame(vanishing_trends, columns=[\"Category\", \"Feature\", \"Value\", \"Trend_Slope\"])\n",
    "vanishing_df.sort_values(\"Trend_Slope\").head(15)\n"
   ]
  },
  {
   "cell_type": "markdown",
   "id": "3f73633c-0c5f-4ba3-baa9-7e3b8f9ca5a4",
   "metadata": {},
   "source": [
    "- *Textured Self-Design* prints and *Rayon* fabric in **Shirts** are declining sharply.  \n",
    "- *Oversized Fits* and *Crochet Styles* in **Shirts** are losing popularity.  \n",
    "- Colors like *Off White* ⚪ and *Multi* 🌈 are fading."
   ]
  },
  {
   "cell_type": "code",
   "execution_count": 74,
   "id": "05817538-c2ef-4273-a9a2-f02b212a837b",
   "metadata": {},
   "outputs": [
    {
     "data": {
      "image/png": "[encoded data removed]",
      "text/plain": [
       "<Figure size 1400x800 with 1 Axes>"
      ]
     },
     "metadata": {},
     "output_type": "display_data"
    }
   ],
   "source": [
    "import matplotlib.pyplot as plt\n",
    "plt.rcParams['font.family'] = 'Segoe UI Emoji'\n",
    "\n",
    "top_vanishing = vanishing_df.sort_values(\"Trend_Slope\").head(10)\n",
    "\n",
    "plt.figure(figsize=(14, 8))\n",
    "bar = sns.barplot(\n",
    "    data=top_vanishing, y=\"Value\", x=\"Trend_Slope\", hue=\"Category\",\n",
    "    palette=\"flare\", dodge=False\n",
    ")\n",
    "\n",
    "# Annotate bars\n",
    "for i in bar.containers:\n",
    "    bar.bar_label(i, fmt='%.0f', label_type='edge', padding=3, fontsize=10, color='black')\n",
    "\n",
    "plt.title(\"📉 Top 10 Vanishing Fashion Trends\",  fontsize=22, weight='bold', color=\"#1f497d\")\n",
    "plt.xlabel(\"↓ Trend Slope (Declining Popularity)\", fontsize=12)\n",
    "plt.ylabel(\"Feature Value\", fontsize=12)\n",
    "plt.xticks(fontsize=10)\n",
    "plt.yticks(fontsize=11)\n",
    "plt.legend(title=\"Category\", bbox_to_anchor=(1.05, 1), loc='upper left', fontsize=10)\n",
    "plt.tight_layout()\n",
    "plt.grid(axis='x', linestyle='--', alpha=0.4)\n",
    "plt.show()\n",
    "\n"
   ]
  },
  {
   "cell_type": "code",
   "execution_count": 77,
   "id": "d702b118-59ab-480c-b327-a928201f3d10",
   "metadata": {},
   "outputs": [
    {
     "name": "stdout",
     "output_type": "stream",
     "text": [
      "   Category       Feature      Value  Percentage\n",
      "0    Shirts           FIT   Slim Fit       33.33\n",
      "1    Shirts           FIT    Regular       33.33\n",
      "2    Shirts           FIT  Oversized       33.33\n",
      "3     Jeans           FIT    Regular       66.67\n",
      "4     Jeans           FIT   Slim Fit       33.33\n",
      "5    Shirts  MATERIAL_NEW     Cotton       33.33\n",
      "6    Shirts  MATERIAL_NEW  Polyester       33.33\n",
      "7    Shirts  MATERIAL_NEW      Rayon       33.33\n",
      "8     Jeans  MATERIAL_NEW      Denim      100.00\n",
      "9    Shirts         STYLE     Casual       66.67\n",
      "10   Shirts         STYLE     Formal       33.33\n",
      "11    Jeans         STYLE     Casual       66.67\n",
      "12    Jeans         STYLE     Formal       33.33\n",
      "13   Shirts         COLOR       Blue       66.67\n",
      "14   Shirts         COLOR        Red       33.33\n",
      "15    Jeans         COLOR       Blue       33.33\n",
      "16    Jeans         COLOR      Black       33.33\n",
      "17    Jeans         COLOR       Grey       33.33\n",
      "18   Shirts  PRINT_DESIGN       None       66.67\n",
      "19   Shirts  PRINT_DESIGN    Striped       33.33\n"
     ]
    }
   ],
   "source": [
    "import pandas as pd\n",
    "\n",
    "composition_records = []\n",
    "\n",
    "# Example dummy df for illustration\n",
    "# Your actual df will have real data\n",
    "df = pd.DataFrame({\n",
    "    \"CATEGORY\": [\"Shirts\", \"Shirts\", \"Shirts\", \"Jeans\", \"Jeans\", \"Jeans\"],\n",
    "    \"FIT\": [\"Slim Fit\", \"Regular\", \"Oversized\", \"Regular\", \"Slim Fit\", \"Regular\"],\n",
    "    \"MATERIAL_NEW\": [\"Cotton\", \"Polyester\", \"Rayon\", \"Denim\", \"Denim\", \"Denim\"],\n",
    "    \"STYLE\": [\"Casual\", \"Formal\", \"Casual\", \"Casual\", \"Casual\", \"Formal\"],\n",
    "    \"COLOR\": [\"Blue\", \"Red\", \"Blue\", \"Blue\", \"Black\", \"Grey\"],\n",
    "    \"PRINT_DESIGN\": [\"None\", \"None\", \"Striped\", \"None\", \"None\", \"Checked\"]\n",
    "})\n",
    "\n",
    "for feature in [\"FIT\", \"MATERIAL_NEW\", \"STYLE\", \"COLOR\", \"PRINT_DESIGN\"]:\n",
    "    for cat in df[\"CATEGORY\"].dropna().unique():\n",
    "        sub_df = df[df[\"CATEGORY\"] == cat]\n",
    "        value_counts = sub_df[feature].value_counts(normalize=True) * 100  # Percent composition\n",
    "        for val, pct in value_counts.items():\n",
    "            composition_records.append({\n",
    "                \"Category\": cat,\n",
    "                \"Feature\": feature,\n",
    "                \"Value\": val,\n",
    "                \"Percentage\": round(pct, 2)\n",
    "            })\n",
    "\n",
    "composition_df = pd.DataFrame(composition_records)\n",
    "\n",
    "print(composition_df.head(20))  # Show first 20 rows\n"
   ]
  },
  {
   "cell_type": "markdown",
   "id": "d1beb8a6-2f34-4d70-9b26-43850d66e493",
   "metadata": {},
   "source": [
    "- **Shirts Fit**: *Slim Fit* (33%) 👔, *Regular* (33%) 👕, and *Oversized* (33%) 🧥 — shows diverse customer preferences.  \n",
    "- **Shirts Material**: *Cotton* 🌿, *Polyester* 🧵, *Rayon* 🧶 each around 33% — guides production mix.  \n",
    "- **Shirts Style & Color**: Leaning towards *Casual* 🎽 and *Blue* 🔵 respectively — focus inventory accordingly.\n"
   ]
  },
  {
   "cell_type": "code",
   "execution_count": 59,
   "id": "540c153f-8ec5-41b5-9fde-d8141b643c0f",
   "metadata": {},
   "outputs": [
    {
     "data": {
      "application/vnd.plotly.v1+json": {
       "config": {
        "plotlyServerURL": "https://plot.ly"
       },
       "data": [
        {
         "domain": {
          "x": [
           0,
           1
          ],
          "y": [
           0,
           1
          ]
         },
         "hole": 0.45,
         "hoverinfo": "label+percent+value",
         "hovertemplate": "Value=%{label}<br>Percentage=%{value}<extra></extra>",
         "insidetextfont": {
          "color": "black",
          "family": "Arial Black",
          "size": 20
         },
         "labels": [
          "Slim Fit",
          "Box Fit",
          "Regular Fit",
          "Oversized Fit",
          "Relaxed Fit"
         ],
         "legendgroup": "",
         "marker": {
          "line": {
           "color": "white",
           "width": 3
          }
         },
         "name": "",
         "showlegend": true,
         "textinfo": "percent+label",
         "textposition": "inside",
         "type": "pie",
         "values": [
          81.7,
          9.33,
          5.66,
          2.08,
          1.23
         ]
        }
       ],
       "layout": {
        "height": 900,
        "legend": {
         "font": {
          "family": "Helvetica Neue, sans-serif",
          "size": 18
         },
         "title": {
          "text": "Fit Types"
         },
         "tracegroupgap": 0
        },
        "margin": {
         "b": 50,
         "l": 50,
         "r": 50,
         "t": 80
        },
        "paper_bgcolor": "white",
        "piecolorway": [
         "rgb(102, 197, 204)",
         "rgb(246, 207, 113)",
         "rgb(248, 156, 116)",
         "rgb(220, 176, 242)",
         "rgb(135, 197, 95)",
         "rgb(158, 185, 243)",
         "rgb(254, 136, 177)",
         "rgb(201, 219, 116)",
         "rgb(139, 224, 164)",
         "rgb(180, 151, 231)",
         "rgb(179, 179, 179)"
        ],
        "template": {
         "data": {
          "bar": [
           {
            "error_x": {
             "color": "#2a3f5f"
            },
            "error_y": {
             "color": "#2a3f5f"
            },
            "marker": {
             "line": {
              "color": "#E5ECF6",
              "width": 0.5
             },
             "pattern": {
              "fillmode": "overlay",
              "size": 10,
              "solidity": 0.2
             }
            },
            "type": "bar"
           }
          ],
          "barpolar": [
           {
            "marker": {
             "line": {
              "color": "#E5ECF6",
              "width": 0.5
             },
             "pattern": {
              "fillmode": "overlay",
              "size": 10,
              "solidity": 0.2
             }
            },
            "type": "barpolar"
           }
          ],
          "carpet": [
           {
            "aaxis": {
             "endlinecolor": "#2a3f5f",
             "gridcolor": "white",
             "linecolor": "white",
             "minorgridcolor": "white",
             "startlinecolor": "#2a3f5f"
            },
            "baxis": {
             "endlinecolor": "#2a3f5f",
             "gridcolor": "white",
             "linecolor": "white",
             "minorgridcolor": "white",
             "startlinecolor": "#2a3f5f"
            },
            "type": "carpet"
           }
          ],
          "choropleth": [
           {
            "colorbar": {
             "outlinewidth": 0,
             "ticks": ""
            },
            "type": "choropleth"
           }
          ],
          "contour": [
           {
            "colorbar": {
             "outlinewidth": 0,
             "ticks": ""
            },
            "colorscale": [
             [
              0,
              "#0d0887"
             ],
             [
              0.1111111111111111,
              "#46039f"
             ],
             [
              0.2222222222222222,
              "#7201a8"
             ],
             [
              0.3333333333333333,
              "#9c179e"
             ],
             [
              0.4444444444444444,
              "#bd3786"
             ],
             [
              0.5555555555555556,
              "#d8576b"
             ],
             [
              0.6666666666666666,
              "#ed7953"
             ],
             [
              0.7777777777777778,
              "#fb9f3a"
             ],
             [
              0.8888888888888888,
              "#fdca26"
             ],
             [
              1,
              "#f0f921"
             ]
            ],
            "type": "contour"
           }
          ],
          "contourcarpet": [
           {
            "colorbar": {
             "outlinewidth": 0,
             "ticks": ""
            },
            "type": "contourcarpet"
           }
          ],
          "heatmap": [
           {
            "colorbar": {
             "outlinewidth": 0,
             "ticks": ""
            },
            "colorscale": [
             [
              0,
              "#0d0887"
             ],
             [
              0.1111111111111111,
              "#46039f"
             ],
             [
              0.2222222222222222,
              "#7201a8"
             ],
             [
              0.3333333333333333,
              "#9c179e"
             ],
             [
              0.4444444444444444,
              "#bd3786"
             ],
             [
              0.5555555555555556,
              "#d8576b"
             ],
             [
              0.6666666666666666,
              "#ed7953"
             ],
             [
              0.7777777777777778,
              "#fb9f3a"
             ],
             [
              0.8888888888888888,
              "#fdca26"
             ],
             [
              1,
              "#f0f921"
             ]
            ],
            "type": "heatmap"
           }
          ],
          "heatmapgl": [
           {
            "colorbar": {
             "outlinewidth": 0,
             "ticks": ""
            },
            "colorscale": [
             [
              0,
              "#0d0887"
             ],
             [
              0.1111111111111111,
              "#46039f"
             ],
             [
              0.2222222222222222,
              "#7201a8"
             ],
             [
              0.3333333333333333,
              "#9c179e"
             ],
             [
              0.4444444444444444,
              "#bd3786"
             ],
             [
              0.5555555555555556,
              "#d8576b"
             ],
             [
              0.6666666666666666,
              "#ed7953"
             ],
             [
              0.7777777777777778,
              "#fb9f3a"
             ],
             [
              0.8888888888888888,
              "#fdca26"
             ],
             [
              1,
              "#f0f921"
             ]
            ],
            "type": "heatmapgl"
           }
          ],
          "histogram": [
           {
            "marker": {
             "pattern": {
              "fillmode": "overlay",
              "size": 10,
              "solidity": 0.2
             }
            },
            "type": "histogram"
           }
          ],
          "histogram2d": [
           {
            "colorbar": {
             "outlinewidth": 0,
             "ticks": ""
            },
            "colorscale": [
             [
              0,
              "#0d0887"
             ],
             [
              0.1111111111111111,
              "#46039f"
             ],
             [
              0.2222222222222222,
              "#7201a8"
             ],
             [
              0.3333333333333333,
              "#9c179e"
             ],
             [
              0.4444444444444444,
              "#bd3786"
             ],
             [
              0.5555555555555556,
              "#d8576b"
             ],
             [
              0.6666666666666666,
              "#ed7953"
             ],
             [
              0.7777777777777778,
              "#fb9f3a"
             ],
             [
              0.8888888888888888,
              "#fdca26"
             ],
             [
              1,
              "#f0f921"
             ]
            ],
            "type": "histogram2d"
           }
          ],
          "histogram2dcontour": [
           {
            "colorbar": {
             "outlinewidth": 0,
             "ticks": ""
            },
            "colorscale": [
             [
              0,
              "#0d0887"
             ],
             [
              0.1111111111111111,
              "#46039f"
             ],
             [
              0.2222222222222222,
              "#7201a8"
             ],
             [
              0.3333333333333333,
              "#9c179e"
             ],
             [
              0.4444444444444444,
              "#bd3786"
             ],
             [
              0.5555555555555556,
              "#d8576b"
             ],
             [
              0.6666666666666666,
              "#ed7953"
             ],
             [
              0.7777777777777778,
              "#fb9f3a"
             ],
             [
              0.8888888888888888,
              "#fdca26"
             ],
             [
              1,
              "#f0f921"
             ]
            ],
            "type": "histogram2dcontour"
           }
          ],
          "mesh3d": [
           {
            "colorbar": {
             "outlinewidth": 0,
             "ticks": ""
            },
            "type": "mesh3d"
           }
          ],
          "parcoords": [
           {
            "line": {
             "colorbar": {
              "outlinewidth": 0,
              "ticks": ""
             }
            },
            "type": "parcoords"
           }
          ],
          "pie": [
           {
            "automargin": true,
            "type": "pie"
           }
          ],
          "scatter": [
           {
            "fillpattern": {
             "fillmode": "overlay",
             "size": 10,
             "solidity": 0.2
            },
            "type": "scatter"
           }
          ],
          "scatter3d": [
           {
            "line": {
             "colorbar": {
              "outlinewidth": 0,
              "ticks": ""
             }
            },
            "marker": {
             "colorbar": {
              "outlinewidth": 0,
              "ticks": ""
             }
            },
            "type": "scatter3d"
           }
          ],
          "scattercarpet": [
           {
            "marker": {
             "colorbar": {
              "outlinewidth": 0,
              "ticks": ""
             }
            },
            "type": "scattercarpet"
           }
          ],
          "scattergeo": [
           {
            "marker": {
             "colorbar": {
              "outlinewidth": 0,
              "ticks": ""
             }
            },
            "type": "scattergeo"
           }
          ],
          "scattergl": [
           {
            "marker": {
             "colorbar": {
              "outlinewidth": 0,
              "ticks": ""
             }
            },
            "type": "scattergl"
           }
          ],
          "scattermapbox": [
           {
            "marker": {
             "colorbar": {
              "outlinewidth": 0,
              "ticks": ""
             }
            },
            "type": "scattermapbox"
           }
          ],
          "scatterpolar": [
           {
            "marker": {
             "colorbar": {
              "outlinewidth": 0,
              "ticks": ""
             }
            },
            "type": "scatterpolar"
           }
          ],
          "scatterpolargl": [
           {
            "marker": {
             "colorbar": {
              "outlinewidth": 0,
              "ticks": ""
             }
            },
            "type": "scatterpolargl"
           }
          ],
          "scatterternary": [
           {
            "marker": {
             "colorbar": {
              "outlinewidth": 0,
              "ticks": ""
             }
            },
            "type": "scatterternary"
           }
          ],
          "surface": [
           {
            "colorbar": {
             "outlinewidth": 0,
             "ticks": ""
            },
            "colorscale": [
             [
              0,
              "#0d0887"
             ],
             [
              0.1111111111111111,
              "#46039f"
             ],
             [
              0.2222222222222222,
              "#7201a8"
             ],
             [
              0.3333333333333333,
              "#9c179e"
             ],
             [
              0.4444444444444444,
              "#bd3786"
             ],
             [
              0.5555555555555556,
              "#d8576b"
             ],
             [
              0.6666666666666666,
              "#ed7953"
             ],
             [
              0.7777777777777778,
              "#fb9f3a"
             ],
             [
              0.8888888888888888,
              "#fdca26"
             ],
             [
              1,
              "#f0f921"
             ]
            ],
            "type": "surface"
           }
          ],
          "table": [
           {
            "cells": {
             "fill": {
              "color": "#EBF0F8"
             },
             "line": {
              "color": "white"
             }
            },
            "header": {
             "fill": {
              "color": "#C8D4E3"
             },
             "line": {
              "color": "white"
             }
            },
            "type": "table"
           }
          ]
         },
         "layout": {
          "annotationdefaults": {
           "arrowcolor": "#2a3f5f",
           "arrowhead": 0,
           "arrowwidth": 1
          },
          "autotypenumbers": "strict",
          "coloraxis": {
           "colorbar": {
            "outlinewidth": 0,
            "ticks": ""
           }
          },
          "colorscale": {
           "diverging": [
            [
             0,
             "#8e0152"
            ],
            [
             0.1,
             "#c51b7d"
            ],
            [
             0.2,
             "#de77ae"
            ],
            [
             0.3,
             "#f1b6da"
            ],
            [
             0.4,
             "#fde0ef"
            ],
            [
             0.5,
             "#f7f7f7"
            ],
            [
             0.6,
             "#e6f5d0"
            ],
            [
             0.7,
             "#b8e186"
            ],
            [
             0.8,
             "#7fbc41"
            ],
            [
             0.9,
             "#4d9221"
            ],
            [
             1,
             "#276419"
            ]
           ],
           "sequential": [
            [
             0,
             "#0d0887"
            ],
            [
             0.1111111111111111,
             "#46039f"
            ],
            [
             0.2222222222222222,
             "#7201a8"
            ],
            [
             0.3333333333333333,
             "#9c179e"
            ],
            [
             0.4444444444444444,
             "#bd3786"
            ],
            [
             0.5555555555555556,
             "#d8576b"
            ],
            [
             0.6666666666666666,
             "#ed7953"
            ],
            [
             0.7777777777777778,
             "#fb9f3a"
            ],
            [
             0.8888888888888888,
             "#fdca26"
            ],
            [
             1,
             "#f0f921"
            ]
           ],
           "sequentialminus": [
            [
             0,
             "#0d0887"
            ],
            [
             0.1111111111111111,
             "#46039f"
            ],
            [
             0.2222222222222222,
             "#7201a8"
            ],
            [
             0.3333333333333333,
             "#9c179e"
            ],
            [
             0.4444444444444444,
             "#bd3786"
            ],
            [
             0.5555555555555556,
             "#d8576b"
            ],
            [
             0.6666666666666666,
             "#ed7953"
            ],
            [
             0.7777777777777778,
             "#fb9f3a"
            ],
            [
             0.8888888888888888,
             "#fdca26"
            ],
            [
             1,
             "#f0f921"
            ]
           ]
          },
          "colorway": [
           "#636efa",
           "#EF553B",
           "#00cc96",
           "#ab63fa",
           "#FFA15A",
           "#19d3f3",
           "#FF6692",
           "#B6E880",
           "#FF97FF",
           "#FECB52"
          ],
          "font": {
           "color": "#2a3f5f"
          },
          "geo": {
           "bgcolor": "white",
           "lakecolor": "white",
           "landcolor": "#E5ECF6",
           "showlakes": true,
           "showland": true,
           "subunitcolor": "white"
          },
          "hoverlabel": {
           "align": "left"
          },
          "hovermode": "closest",
          "mapbox": {
           "style": "light"
          },
          "paper_bgcolor": "white",
          "plot_bgcolor": "#E5ECF6",
          "polar": {
           "angularaxis": {
            "gridcolor": "white",
            "linecolor": "white",
            "ticks": ""
           },
           "bgcolor": "#E5ECF6",
           "radialaxis": {
            "gridcolor": "white",
            "linecolor": "white",
            "ticks": ""
           }
          },
          "scene": {
           "xaxis": {
            "backgroundcolor": "#E5ECF6",
            "gridcolor": "white",
            "gridwidth": 2,
            "linecolor": "white",
            "showbackground": true,
            "ticks": "",
            "zerolinecolor": "white"
           },
           "yaxis": {
            "backgroundcolor": "#E5ECF6",
            "gridcolor": "white",
            "gridwidth": 2,
            "linecolor": "white",
            "showbackground": true,
            "ticks": "",
            "zerolinecolor": "white"
           },
           "zaxis": {
            "backgroundcolor": "#E5ECF6",
            "gridcolor": "white",
            "gridwidth": 2,
            "linecolor": "white",
            "showbackground": true,
            "ticks": "",
            "zerolinecolor": "white"
           }
          },
          "shapedefaults": {
           "line": {
            "color": "#2a3f5f"
           }
          },
          "ternary": {
           "aaxis": {
            "gridcolor": "white",
            "linecolor": "white",
            "ticks": ""
           },
           "baxis": {
            "gridcolor": "white",
            "linecolor": "white",
            "ticks": ""
           },
           "bgcolor": "#E5ECF6",
           "caxis": {
            "gridcolor": "white",
            "linecolor": "white",
            "ticks": ""
           }
          },
          "title": {
           "x": 0.05
          },
          "xaxis": {
           "automargin": true,
           "gridcolor": "white",
           "linecolor": "white",
           "ticks": "",
           "title": {
            "standoff": 15
           },
           "zerolinecolor": "white",
           "zerolinewidth": 2
          },
          "yaxis": {
           "automargin": true,
           "gridcolor": "white",
           "linecolor": "white",
           "ticks": "",
           "title": {
            "standoff": 15
           },
           "zerolinecolor": "white",
           "zerolinewidth": 2
          }
         }
        },
        "title": {
         "font": {
          "family": "Helvetica Neue, sans-serif",
          "size": 32
         },
         "text": "🧵 FIT Composition in Shirts",
         "x": 0.5
        },
        "width": 900
       }
      },
      "image/png": "[encoded data removed]",
      "text/html": [
       "<div>                            <div id=\"39289e31-9f09-4f08-9206-703672a84ab3\" class=\"plotly-graph-div\" style=\"height:900px; width:900px;\"></div>            <script type=\"text/javascript\">                require([\"plotly\"], function(Plotly) {                    window.PLOTLYENV=window.PLOTLYENV || {};                                    if (document.getElementById(\"39289e31-9f09-4f08-9206-703672a84ab3\")) {                    Plotly.newPlot(                        \"39289e31-9f09-4f08-9206-703672a84ab3\",                        [{\"domain\":{\"x\":[0.0,1.0],\"y\":[0.0,1.0]},\"hole\":0.45,\"hovertemplate\":\"Value=%{label}\\u003cbr\\u003ePercentage=%{value}\\u003cextra\\u003e\\u003c\\u002fextra\\u003e\",\"labels\":[\"Slim Fit\",\"Box Fit\",\"Regular Fit\",\"Oversized Fit\",\"Relaxed Fit\"],\"legendgroup\":\"\",\"name\":\"\",\"showlegend\":true,\"values\":[81.7,9.33,5.66,2.08,1.23],\"type\":\"pie\",\"insidetextfont\":{\"color\":\"black\",\"family\":\"Arial Black\",\"size\":20},\"marker\":{\"line\":{\"color\":\"white\",\"width\":3}},\"hoverinfo\":\"label+percent+value\",\"textinfo\":\"percent+label\",\"textposition\":\"inside\"}],                        {\"template\":{\"data\":{\"histogram2dcontour\":[{\"type\":\"histogram2dcontour\",\"colorbar\":{\"outlinewidth\":0,\"ticks\":\"\"},\"colorscale\":[[0.0,\"#0d0887\"],[0.1111111111111111,\"#46039f\"],[0.2222222222222222,\"#7201a8\"],[0.3333333333333333,\"#9c179e\"],[0.4444444444444444,\"#bd3786\"],[0.5555555555555556,\"#d8576b\"],[0.6666666666666666,\"#ed7953\"],[0.7777777777777778,\"#fb9f3a\"],[0.8888888888888888,\"#fdca26\"],[1.0,\"#f0f921\"]]}],\"choropleth\":[{\"type\":\"choropleth\",\"colorbar\":{\"outlinewidth\":0,\"ticks\":\"\"}}],\"histogram2d\":[{\"type\":\"histogram2d\",\"colorbar\":{\"outlinewidth\":0,\"ticks\":\"\"},\"colorscale\":[[0.0,\"#0d0887\"],[0.1111111111111111,\"#46039f\"],[0.2222222222222222,\"#7201a8\"],[0.3333333333333333,\"#9c179e\"],[0.4444444444444444,\"#bd3786\"],[0.5555555555555556,\"#d8576b\"],[0.6666666666666666,\"#ed7953\"],[0.7777777777777778,\"#fb9f3a\"],[0.8888888888888888,\"#fdca26\"],[1.0,\"#f0f921\"]]}],\"heatmap\":[{\"type\":\"heatmap\",\"colorbar\":{\"outlinewidth\":0,\"ticks\":\"\"},\"colorscale\":[[0.0,\"#0d0887\"],[0.1111111111111111,\"#46039f\"],[0.2222222222222222,\"#7201a8\"],[0.3333333333333333,\"#9c179e\"],[0.4444444444444444,\"#bd3786\"],[0.5555555555555556,\"#d8576b\"],[0.6666666666666666,\"#ed7953\"],[0.7777777777777778,\"#fb9f3a\"],[0.8888888888888888,\"#fdca26\"],[1.0,\"#f0f921\"]]}],\"heatmapgl\":[{\"type\":\"heatmapgl\",\"colorbar\":{\"outlinewidth\":0,\"ticks\":\"\"},\"colorscale\":[[0.0,\"#0d0887\"],[0.1111111111111111,\"#46039f\"],[0.2222222222222222,\"#7201a8\"],[0.3333333333333333,\"#9c179e\"],[0.4444444444444444,\"#bd3786\"],[0.5555555555555556,\"#d8576b\"],[0.6666666666666666,\"#ed7953\"],[0.7777777777777778,\"#fb9f3a\"],[0.8888888888888888,\"#fdca26\"],[1.0,\"#f0f921\"]]}],\"contourcarpet\":[{\"type\":\"contourcarpet\",\"colorbar\":{\"outlinewidth\":0,\"ticks\":\"\"}}],\"contour\":[{\"type\":\"contour\",\"colorbar\":{\"outlinewidth\":0,\"ticks\":\"\"},\"colorscale\":[[0.0,\"#0d0887\"],[0.1111111111111111,\"#46039f\"],[0.2222222222222222,\"#7201a8\"],[0.3333333333333333,\"#9c179e\"],[0.4444444444444444,\"#bd3786\"],[0.5555555555555556,\"#d8576b\"],[0.6666666666666666,\"#ed7953\"],[0.7777777777777778,\"#fb9f3a\"],[0.8888888888888888,\"#fdca26\"],[1.0,\"#f0f921\"]]}],\"surface\":[{\"type\":\"surface\",\"colorbar\":{\"outlinewidth\":0,\"ticks\":\"\"},\"colorscale\":[[0.0,\"#0d0887\"],[0.1111111111111111,\"#46039f\"],[0.2222222222222222,\"#7201a8\"],[0.3333333333333333,\"#9c179e\"],[0.4444444444444444,\"#bd3786\"],[0.5555555555555556,\"#d8576b\"],[0.6666666666666666,\"#ed7953\"],[0.7777777777777778,\"#fb9f3a\"],[0.8888888888888888,\"#fdca26\"],[1.0,\"#f0f921\"]]}],\"mesh3d\":[{\"type\":\"mesh3d\",\"colorbar\":{\"outlinewidth\":0,\"ticks\":\"\"}}],\"scatter\":[{\"fillpattern\":{\"fillmode\":\"overlay\",\"size\":10,\"solidity\":0.2},\"type\":\"scatter\"}],\"parcoords\":[{\"type\":\"parcoords\",\"line\":{\"colorbar\":{\"outlinewidth\":0,\"ticks\":\"\"}}}],\"scatterpolargl\":[{\"type\":\"scatterpolargl\",\"marker\":{\"colorbar\":{\"outlinewidth\":0,\"ticks\":\"\"}}}],\"bar\":[{\"error_x\":{\"color\":\"#2a3f5f\"},\"error_y\":{\"color\":\"#2a3f5f\"},\"marker\":{\"line\":{\"color\":\"#E5ECF6\",\"width\":0.5},\"pattern\":{\"fillmode\":\"overlay\",\"size\":10,\"solidity\":0.2}},\"type\":\"bar\"}],\"scattergeo\":[{\"type\":\"scattergeo\",\"marker\":{\"colorbar\":{\"outlinewidth\":0,\"ticks\":\"\"}}}],\"scatterpolar\":[{\"type\":\"scatterpolar\",\"marker\":{\"colorbar\":{\"outlinewidth\":0,\"ticks\":\"\"}}}],\"histogram\":[{\"marker\":{\"pattern\":{\"fillmode\":\"overlay\",\"size\":10,\"solidity\":0.2}},\"type\":\"histogram\"}],\"scattergl\":[{\"type\":\"scattergl\",\"marker\":{\"colorbar\":{\"outlinewidth\":0,\"ticks\":\"\"}}}],\"scatter3d\":[{\"type\":\"scatter3d\",\"line\":{\"colorbar\":{\"outlinewidth\":0,\"ticks\":\"\"}},\"marker\":{\"colorbar\":{\"outlinewidth\":0,\"ticks\":\"\"}}}],\"scattermapbox\":[{\"type\":\"scattermapbox\",\"marker\":{\"colorbar\":{\"outlinewidth\":0,\"ticks\":\"\"}}}],\"scatterternary\":[{\"type\":\"scatterternary\",\"marker\":{\"colorbar\":{\"outlinewidth\":0,\"ticks\":\"\"}}}],\"scattercarpet\":[{\"type\":\"scattercarpet\",\"marker\":{\"colorbar\":{\"outlinewidth\":0,\"ticks\":\"\"}}}],\"carpet\":[{\"aaxis\":{\"endlinecolor\":\"#2a3f5f\",\"gridcolor\":\"white\",\"linecolor\":\"white\",\"minorgridcolor\":\"white\",\"startlinecolor\":\"#2a3f5f\"},\"baxis\":{\"endlinecolor\":\"#2a3f5f\",\"gridcolor\":\"white\",\"linecolor\":\"white\",\"minorgridcolor\":\"white\",\"startlinecolor\":\"#2a3f5f\"},\"type\":\"carpet\"}],\"table\":[{\"cells\":{\"fill\":{\"color\":\"#EBF0F8\"},\"line\":{\"color\":\"white\"}},\"header\":{\"fill\":{\"color\":\"#C8D4E3\"},\"line\":{\"color\":\"white\"}},\"type\":\"table\"}],\"barpolar\":[{\"marker\":{\"line\":{\"color\":\"#E5ECF6\",\"width\":0.5},\"pattern\":{\"fillmode\":\"overlay\",\"size\":10,\"solidity\":0.2}},\"type\":\"barpolar\"}],\"pie\":[{\"automargin\":true,\"type\":\"pie\"}]},\"layout\":{\"autotypenumbers\":\"strict\",\"colorway\":[\"#636efa\",\"#EF553B\",\"#00cc96\",\"#ab63fa\",\"#FFA15A\",\"#19d3f3\",\"#FF6692\",\"#B6E880\",\"#FF97FF\",\"#FECB52\"],\"font\":{\"color\":\"#2a3f5f\"},\"hovermode\":\"closest\",\"hoverlabel\":{\"align\":\"left\"},\"paper_bgcolor\":\"white\",\"plot_bgcolor\":\"#E5ECF6\",\"polar\":{\"bgcolor\":\"#E5ECF6\",\"angularaxis\":{\"gridcolor\":\"white\",\"linecolor\":\"white\",\"ticks\":\"\"},\"radialaxis\":{\"gridcolor\":\"white\",\"linecolor\":\"white\",\"ticks\":\"\"}},\"ternary\":{\"bgcolor\":\"#E5ECF6\",\"aaxis\":{\"gridcolor\":\"white\",\"linecolor\":\"white\",\"ticks\":\"\"},\"baxis\":{\"gridcolor\":\"white\",\"linecolor\":\"white\",\"ticks\":\"\"},\"caxis\":{\"gridcolor\":\"white\",\"linecolor\":\"white\",\"ticks\":\"\"}},\"coloraxis\":{\"colorbar\":{\"outlinewidth\":0,\"ticks\":\"\"}},\"colorscale\":{\"sequential\":[[0.0,\"#0d0887\"],[0.1111111111111111,\"#46039f\"],[0.2222222222222222,\"#7201a8\"],[0.3333333333333333,\"#9c179e\"],[0.4444444444444444,\"#bd3786\"],[0.5555555555555556,\"#d8576b\"],[0.6666666666666666,\"#ed7953\"],[0.7777777777777778,\"#fb9f3a\"],[0.8888888888888888,\"#fdca26\"],[1.0,\"#f0f921\"]],\"sequentialminus\":[[0.0,\"#0d0887\"],[0.1111111111111111,\"#46039f\"],[0.2222222222222222,\"#7201a8\"],[0.3333333333333333,\"#9c179e\"],[0.4444444444444444,\"#bd3786\"],[0.5555555555555556,\"#d8576b\"],[0.6666666666666666,\"#ed7953\"],[0.7777777777777778,\"#fb9f3a\"],[0.8888888888888888,\"#fdca26\"],[1.0,\"#f0f921\"]],\"diverging\":[[0,\"#8e0152\"],[0.1,\"#c51b7d\"],[0.2,\"#de77ae\"],[0.3,\"#f1b6da\"],[0.4,\"#fde0ef\"],[0.5,\"#f7f7f7\"],[0.6,\"#e6f5d0\"],[0.7,\"#b8e186\"],[0.8,\"#7fbc41\"],[0.9,\"#4d9221\"],[1,\"#276419\"]]},\"xaxis\":{\"gridcolor\":\"white\",\"linecolor\":\"white\",\"ticks\":\"\",\"title\":{\"standoff\":15},\"zerolinecolor\":\"white\",\"automargin\":true,\"zerolinewidth\":2},\"yaxis\":{\"gridcolor\":\"white\",\"linecolor\":\"white\",\"ticks\":\"\",\"title\":{\"standoff\":15},\"zerolinecolor\":\"white\",\"automargin\":true,\"zerolinewidth\":2},\"scene\":{\"xaxis\":{\"backgroundcolor\":\"#E5ECF6\",\"gridcolor\":\"white\",\"linecolor\":\"white\",\"showbackground\":true,\"ticks\":\"\",\"zerolinecolor\":\"white\",\"gridwidth\":2},\"yaxis\":{\"backgroundcolor\":\"#E5ECF6\",\"gridcolor\":\"white\",\"linecolor\":\"white\",\"showbackground\":true,\"ticks\":\"\",\"zerolinecolor\":\"white\",\"gridwidth\":2},\"zaxis\":{\"backgroundcolor\":\"#E5ECF6\",\"gridcolor\":\"white\",\"linecolor\":\"white\",\"showbackground\":true,\"ticks\":\"\",\"zerolinecolor\":\"white\",\"gridwidth\":2}},\"shapedefaults\":{\"line\":{\"color\":\"#2a3f5f\"}},\"annotationdefaults\":{\"arrowcolor\":\"#2a3f5f\",\"arrowhead\":0,\"arrowwidth\":1},\"geo\":{\"bgcolor\":\"white\",\"landcolor\":\"#E5ECF6\",\"subunitcolor\":\"white\",\"showland\":true,\"showlakes\":true,\"lakecolor\":\"white\"},\"title\":{\"x\":0.05},\"mapbox\":{\"style\":\"light\"}}},\"legend\":{\"tracegroupgap\":0,\"title\":{\"text\":\"Fit Types\"},\"font\":{\"size\":18,\"family\":\"Helvetica Neue, sans-serif\"}},\"title\":{\"text\":\"\\ud83e\\uddf5 FIT Composition in Shirts\",\"font\":{\"size\":32,\"family\":\"Helvetica Neue, sans-serif\"},\"x\":0.5},\"piecolorway\":[\"rgb(102, 197, 204)\",\"rgb(246, 207, 113)\",\"rgb(248, 156, 116)\",\"rgb(220, 176, 242)\",\"rgb(135, 197, 95)\",\"rgb(158, 185, 243)\",\"rgb(254, 136, 177)\",\"rgb(201, 219, 116)\",\"rgb(139, 224, 164)\",\"rgb(180, 151, 231)\",\"rgb(179, 179, 179)\"],\"margin\":{\"t\":80,\"b\":50,\"l\":50,\"r\":50},\"width\":900,\"height\":900,\"paper_bgcolor\":\"white\"},                        {\"responsive\": true}                    ).then(function(){\n",
       "                            \n",
       "var gd = document.getElementById('39289e31-9f09-4f08-9206-703672a84ab3');\n",
       "var x = new MutationObserver(function (mutations, observer) {{\n",
       "        var display = window.getComputedStyle(gd).display;\n",
       "        if (!display || display === 'none') {{\n",
       "            console.log([gd, 'removed!']);\n",
       "            Plotly.purge(gd);\n",
       "            observer.disconnect();\n",
       "        }}\n",
       "}});\n",
       "\n",
       "// Listen for the removal of the full notebook cells\n",
       "var notebookContainer = gd.closest('#notebook-container');\n",
       "if (notebookContainer) {{\n",
       "    x.observe(notebookContainer, {childList: true});\n",
       "}}\n",
       "\n",
       "// Listen for the clearing of the current output cell\n",
       "var outputEl = gd.closest('.output');\n",
       "if (outputEl) {{\n",
       "    x.observe(outputEl, {childList: true});\n",
       "}}\n",
       "\n",
       "                        })                };                });            </script>        </div>"
      ]
     },
     "metadata": {},
     "output_type": "display_data"
    }
   ],
   "source": [
    "import plotly.express as px\n",
    "\n",
    "shirt_fit = composition_df[(composition_df[\"Category\"] == \"Shirts\") & (composition_df[\"Feature\"] == \"FIT\")]\n",
    "\n",
    "fig = px.pie(\n",
    "    shirt_fit,\n",
    "    values=\"Percentage\",\n",
    "    names=\"Value\",\n",
    "    title=\"🧵 FIT Composition in Shirts\",\n",
    "    color_discrete_sequence=px.colors.qualitative.Pastel,\n",
    "    hole=0.45\n",
    ")\n",
    "\n",
    "fig.update_traces(\n",
    "    textposition='inside',\n",
    "    textinfo='percent+label',\n",
    "    insidetextfont=dict(size=20, color='black', family='Arial Black'),\n",
    "    hoverinfo='label+percent+value',\n",
    "    marker=dict(line=dict(color='white', width=3))\n",
    ")\n",
    "\n",
    "fig.update_layout(\n",
    "    title_font_size=32,\n",
    "    title_font_family='Helvetica Neue, sans-serif',\n",
    "    title_x=0.5,\n",
    "    legend_title_text='Fit Types',\n",
    "    legend_font_size=18,\n",
    "    legend_font_family='Helvetica Neue, sans-serif',\n",
    "    width=900,\n",
    "    height=900,\n",
    "    margin=dict(t=80, b=50, l=50, r=50),\n",
    "    paper_bgcolor='white',\n",
    ")\n",
    "\n",
    "fig.show()\n"
   ]
  },
  {
   "cell_type": "code",
   "execution_count": null,
   "id": "2309d0e9-a0c3-4354-9f91-70e875b3d637",
   "metadata": {},
   "outputs": [],
   "source": []
  }
 ],
 "metadata": {
  "kernelspec": {
   "display_name": "Python 3 (ipykernel)",
   "language": "python",
   "name": "python3"
  },
  "language_info": {
   "codemirror_mode": {
    "name": "ipython",
    "version": 3
   },
   "file_extension": ".py",
   "mimetype": "text/x-python",
   "name": "python",
   "nbconvert_exporter": "python",
   "pygments_lexer": "ipython3",
   "version": "3.12.10"
  }
 },
 "nbformat": 4,
 "nbformat_minor": 5
}
